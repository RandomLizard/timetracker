{
 "cells": [
  {
   "cell_type": "code",
   "execution_count": 122,
   "metadata": {},
   "outputs": [],
   "source": [
    "import pandas as pd\n",
    "from matplotlib import pyplot as plt\n",
    "import datetime as dt"
   ]
  },
  {
   "cell_type": "code",
   "execution_count": 123,
   "metadata": {},
   "outputs": [],
   "source": [
    "taskfile = pd.read_csv('./taskstesting.csv')"
   ]
  },
  {
   "cell_type": "code",
   "execution_count": 124,
   "metadata": {},
   "outputs": [
    {
     "data": {
      "text/html": [
       "<div>\n",
       "<style scoped>\n",
       "    .dataframe tbody tr th:only-of-type {\n",
       "        vertical-align: middle;\n",
       "    }\n",
       "\n",
       "    .dataframe tbody tr th {\n",
       "        vertical-align: top;\n",
       "    }\n",
       "\n",
       "    .dataframe thead th {\n",
       "        text-align: right;\n",
       "    }\n",
       "</style>\n",
       "<table border=\"1\" class=\"dataframe\">\n",
       "  <thead>\n",
       "    <tr style=\"text-align: right;\">\n",
       "      <th></th>\n",
       "      <th>Name</th>\n",
       "      <th>Date</th>\n",
       "      <th>TaskDescription</th>\n",
       "      <th>TaskCategory</th>\n",
       "      <th>TimeTaken</th>\n",
       "    </tr>\n",
       "  </thead>\n",
       "  <tbody>\n",
       "    <tr>\n",
       "      <th>0</th>\n",
       "      <td>Tate</td>\n",
       "      <td>2023-04-28</td>\n",
       "      <td>Test Task 2079</td>\n",
       "      <td>Editing</td>\n",
       "      <td>00:56:32</td>\n",
       "    </tr>\n",
       "    <tr>\n",
       "      <th>1</th>\n",
       "      <td>Tate</td>\n",
       "      <td>2023-05-25</td>\n",
       "      <td>Test Task 2517</td>\n",
       "      <td>Filming</td>\n",
       "      <td>02:32:07</td>\n",
       "    </tr>\n",
       "    <tr>\n",
       "      <th>2</th>\n",
       "      <td>Tate</td>\n",
       "      <td>2023-05-26</td>\n",
       "      <td>Test Task 7612</td>\n",
       "      <td>Meetings</td>\n",
       "      <td>01:24:13</td>\n",
       "    </tr>\n",
       "    <tr>\n",
       "      <th>3</th>\n",
       "      <td>Andrew</td>\n",
       "      <td>2023-07-22</td>\n",
       "      <td>Test Task 8686</td>\n",
       "      <td>Social Media</td>\n",
       "      <td>02:39:54</td>\n",
       "    </tr>\n",
       "    <tr>\n",
       "      <th>4</th>\n",
       "      <td>Andrew</td>\n",
       "      <td>2023-01-16</td>\n",
       "      <td>Test Task 8949</td>\n",
       "      <td>Social Media</td>\n",
       "      <td>02:48:31</td>\n",
       "    </tr>\n",
       "  </tbody>\n",
       "</table>\n",
       "</div>"
      ],
      "text/plain": [
       "     Name        Date TaskDescription  TaskCategory TimeTaken\n",
       "0    Tate  2023-04-28  Test Task 2079       Editing  00:56:32\n",
       "1    Tate  2023-05-25  Test Task 2517       Filming  02:32:07\n",
       "2    Tate  2023-05-26  Test Task 7612      Meetings  01:24:13\n",
       "3  Andrew  2023-07-22  Test Task 8686  Social Media  02:39:54\n",
       "4  Andrew  2023-01-16  Test Task 8949  Social Media  02:48:31"
      ]
     },
     "execution_count": 124,
     "metadata": {},
     "output_type": "execute_result"
    }
   ],
   "source": [
    "taskfile.head()"
   ]
  },
  {
   "cell_type": "code",
   "execution_count": 125,
   "metadata": {},
   "outputs": [
    {
     "name": "stdout",
     "output_type": "stream",
     "text": [
      "0:00:00\n",
      "0:00:00\n",
      "0:00:00\n",
      "0:00:00\n",
      "0:00:00\n",
      "0:00:00\n",
      "0:00:00\n",
      "0:00:00\n",
      "0:00:00\n",
      "{'Editing': [55537], 'Filming': [50170], 'Meetings': [52569], 'Social Media': [64106], 'Research': [24466], 'Programming': [40213], 'Writing': [19905], 'Emails': [37587], 'Admin': [14238]}\n"
     ]
    }
   ],
   "source": [
    "total_times = {}\n",
    "time_sum = dt.timedelta(0)\n",
    "for category in taskfile['TaskCategory'].unique():\n",
    "    time_sum = dt.timedelta(0)\n",
    "    print (time_sum)\n",
    "\n",
    "    for time in taskfile.loc[taskfile['TaskCategory'] == category, 'TimeTaken']:\n",
    "        conv_time = dt.datetime.strptime(time, '%H:%M:%S')\n",
    "        conv_time = dt.timedelta(hours=conv_time.hour, minutes=conv_time.minute, seconds=conv_time.second)\n",
    "        time_sum += conv_time\n",
    "    total_times[category] = [time_sum.seconds]\n",
    "\n",
    "\n",
    "print(total_times)"
   ]
  },
  {
   "cell_type": "code",
   "execution_count": 126,
   "metadata": {},
   "outputs": [],
   "source": [
    "total_times = pd.DataFrame.from_dict(total_times, orient='columns')\n",
    "total_times = total_times.T"
   ]
  },
  {
   "cell_type": "code",
   "execution_count": 127,
   "metadata": {},
   "outputs": [
    {
     "data": {
      "text/html": [
       "<div>\n",
       "<style scoped>\n",
       "    .dataframe tbody tr th:only-of-type {\n",
       "        vertical-align: middle;\n",
       "    }\n",
       "\n",
       "    .dataframe tbody tr th {\n",
       "        vertical-align: top;\n",
       "    }\n",
       "\n",
       "    .dataframe thead th {\n",
       "        text-align: right;\n",
       "    }\n",
       "</style>\n",
       "<table border=\"1\" class=\"dataframe\">\n",
       "  <thead>\n",
       "    <tr style=\"text-align: right;\">\n",
       "      <th></th>\n",
       "      <th>0</th>\n",
       "    </tr>\n",
       "  </thead>\n",
       "  <tbody>\n",
       "    <tr>\n",
       "      <th>Editing</th>\n",
       "      <td>55537</td>\n",
       "    </tr>\n",
       "    <tr>\n",
       "      <th>Filming</th>\n",
       "      <td>50170</td>\n",
       "    </tr>\n",
       "    <tr>\n",
       "      <th>Meetings</th>\n",
       "      <td>52569</td>\n",
       "    </tr>\n",
       "    <tr>\n",
       "      <th>Social Media</th>\n",
       "      <td>64106</td>\n",
       "    </tr>\n",
       "    <tr>\n",
       "      <th>Research</th>\n",
       "      <td>24466</td>\n",
       "    </tr>\n",
       "  </tbody>\n",
       "</table>\n",
       "</div>"
      ],
      "text/plain": [
       "                  0\n",
       "Editing       55537\n",
       "Filming       50170\n",
       "Meetings      52569\n",
       "Social Media  64106\n",
       "Research      24466"
      ]
     },
     "execution_count": 127,
     "metadata": {},
     "output_type": "execute_result"
    }
   ],
   "source": [
    "total_times.head()"
   ]
  },
  {
   "cell_type": "code",
   "execution_count": 128,
   "metadata": {},
   "outputs": [],
   "source": [
    "total_times = total_times.sort_values(by=0, axis=0, ascending=False)\n",
    "total_times = total_times.T"
   ]
  },
  {
   "cell_type": "code",
   "execution_count": 129,
   "metadata": {},
   "outputs": [
    {
     "data": {
      "text/html": [
       "<div>\n",
       "<style scoped>\n",
       "    .dataframe tbody tr th:only-of-type {\n",
       "        vertical-align: middle;\n",
       "    }\n",
       "\n",
       "    .dataframe tbody tr th {\n",
       "        vertical-align: top;\n",
       "    }\n",
       "\n",
       "    .dataframe thead th {\n",
       "        text-align: right;\n",
       "    }\n",
       "</style>\n",
       "<table border=\"1\" class=\"dataframe\">\n",
       "  <thead>\n",
       "    <tr style=\"text-align: right;\">\n",
       "      <th></th>\n",
       "      <th>Social Media</th>\n",
       "      <th>Editing</th>\n",
       "      <th>Meetings</th>\n",
       "      <th>Filming</th>\n",
       "      <th>Programming</th>\n",
       "      <th>Emails</th>\n",
       "      <th>Research</th>\n",
       "      <th>Writing</th>\n",
       "      <th>Admin</th>\n",
       "    </tr>\n",
       "  </thead>\n",
       "  <tbody>\n",
       "    <tr>\n",
       "      <th>0</th>\n",
       "      <td>64106</td>\n",
       "      <td>55537</td>\n",
       "      <td>52569</td>\n",
       "      <td>50170</td>\n",
       "      <td>40213</td>\n",
       "      <td>37587</td>\n",
       "      <td>24466</td>\n",
       "      <td>19905</td>\n",
       "      <td>14238</td>\n",
       "    </tr>\n",
       "  </tbody>\n",
       "</table>\n",
       "</div>"
      ],
      "text/plain": [
       "   Social Media  Editing  Meetings  Filming  Programming  Emails  Research   \n",
       "0         64106    55537     52569    50170        40213   37587     24466  \\\n",
       "\n",
       "   Writing  Admin  \n",
       "0    19905  14238  "
      ]
     },
     "execution_count": 129,
     "metadata": {},
     "output_type": "execute_result"
    }
   ],
   "source": [
    "total_times.head()\n"
   ]
  },
  {
   "cell_type": "code",
   "execution_count": null,
   "metadata": {},
   "outputs": [],
   "source": []
  }
 ],
 "metadata": {
  "kernelspec": {
   "display_name": ".venv",
   "language": "python",
   "name": "python3"
  },
  "language_info": {
   "codemirror_mode": {
    "name": "ipython",
    "version": 3
   },
   "file_extension": ".py",
   "mimetype": "text/x-python",
   "name": "python",
   "nbconvert_exporter": "python",
   "pygments_lexer": "ipython3",
   "version": "3.10.6"
  },
  "orig_nbformat": 4
 },
 "nbformat": 4,
 "nbformat_minor": 2
}
