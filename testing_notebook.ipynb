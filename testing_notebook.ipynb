{
 "cells": [
  {
   "cell_type": "code",
   "execution_count": 49,
   "metadata": {},
   "outputs": [],
   "source": [
    "import pandas as pd\n",
    "from matplotlib import pyplot as plt\n",
    "import datetime as dt"
   ]
  },
  {
   "cell_type": "code",
   "execution_count": 50,
   "metadata": {},
   "outputs": [],
   "source": [
    "taskfile = pd.read_csv('./taskstesting.csv')"
   ]
  },
  {
   "cell_type": "code",
   "execution_count": 51,
   "metadata": {},
   "outputs": [
    {
     "data": {
      "text/html": [
       "<div>\n",
       "<style scoped>\n",
       "    .dataframe tbody tr th:only-of-type {\n",
       "        vertical-align: middle;\n",
       "    }\n",
       "\n",
       "    .dataframe tbody tr th {\n",
       "        vertical-align: top;\n",
       "    }\n",
       "\n",
       "    .dataframe thead th {\n",
       "        text-align: right;\n",
       "    }\n",
       "</style>\n",
       "<table border=\"1\" class=\"dataframe\">\n",
       "  <thead>\n",
       "    <tr style=\"text-align: right;\">\n",
       "      <th></th>\n",
       "      <th>Name</th>\n",
       "      <th>Date</th>\n",
       "      <th>TaskDescription</th>\n",
       "      <th>TaskCategory</th>\n",
       "      <th>TimeTaken</th>\n",
       "    </tr>\n",
       "  </thead>\n",
       "  <tbody>\n",
       "    <tr>\n",
       "      <th>0</th>\n",
       "      <td>Tate</td>\n",
       "      <td>04/18/2023</td>\n",
       "      <td>Something I'm sure.</td>\n",
       "      <td>Editing</td>\n",
       "      <td>0:00:06</td>\n",
       "    </tr>\n",
       "    <tr>\n",
       "      <th>1</th>\n",
       "      <td>NaN</td>\n",
       "      <td>04/19/2023</td>\n",
       "      <td>NaN</td>\n",
       "      <td>NaN</td>\n",
       "      <td>0:00:05</td>\n",
       "    </tr>\n",
       "    <tr>\n",
       "      <th>2</th>\n",
       "      <td>NaN</td>\n",
       "      <td>04/19/2023</td>\n",
       "      <td>NaN</td>\n",
       "      <td>NaN</td>\n",
       "      <td>0:00:04</td>\n",
       "    </tr>\n",
       "    <tr>\n",
       "      <th>3</th>\n",
       "      <td>Tate</td>\n",
       "      <td>04/19/2023</td>\n",
       "      <td>Test_task1222</td>\n",
       "      <td>Editing</td>\n",
       "      <td>0:00:11</td>\n",
       "    </tr>\n",
       "    <tr>\n",
       "      <th>4</th>\n",
       "      <td>Tate</td>\n",
       "      <td>04/19/2023</td>\n",
       "      <td>Test</td>\n",
       "      <td>Meetings</td>\n",
       "      <td>0:00:29</td>\n",
       "    </tr>\n",
       "  </tbody>\n",
       "</table>\n",
       "</div>"
      ],
      "text/plain": [
       "   Name        Date      TaskDescription TaskCategory TimeTaken\n",
       "0  Tate  04/18/2023  Something I'm sure.      Editing   0:00:06\n",
       "1   NaN  04/19/2023                  NaN          NaN   0:00:05\n",
       "2   NaN  04/19/2023                  NaN          NaN   0:00:04\n",
       "3  Tate  04/19/2023        Test_task1222      Editing   0:00:11\n",
       "4  Tate  04/19/2023                 Test     Meetings   0:00:29"
      ]
     },
     "execution_count": 51,
     "metadata": {},
     "output_type": "execute_result"
    }
   ],
   "source": [
    "taskfile.head()"
   ]
  },
  {
   "cell_type": "code",
   "execution_count": 52,
   "metadata": {},
   "outputs": [],
   "source": [
    "category_totals = {}"
   ]
  },
  {
   "cell_type": "code",
   "execution_count": 53,
   "metadata": {},
   "outputs": [
    {
     "name": "stdout",
     "output_type": "stream",
     "text": [
      "Editing: 0:00:06\n",
      "Editing: 0:00:11\n",
      "Meetings: 0:00:29\n",
      "Meetings: 0:00:15\n",
      "Programming: 0:00:14\n",
      "Programming: 0:00:12\n"
     ]
    }
   ],
   "source": [
    "for category in taskfile['TaskCategory'].unique():\n",
    "    for time in taskfile.loc[taskfile['TaskCategory'] == category, 'TimeTaken']:\n",
    "        print(f'{category}: {time}')\n",
    "        if (category in category_totals):\n",
    "            time = dt.datetime.strptime(time, '%H:%M:%S').time()\n",
    "            time_delta = dt.timedelta(hours=time.hour, minutes=time.minute, seconds=time.second)\n",
    "            category_totals[category] += time_delta\n",
    "            category_totals[category].time()\n",
    "        else:\n",
    "            category_totals[category] = dt.datetime.strptime(str(time), '%H:%M:%S')"
   ]
  },
  {
   "cell_type": "code",
   "execution_count": 54,
   "metadata": {},
   "outputs": [
    {
     "name": "stdout",
     "output_type": "stream",
     "text": [
      "{'Editing': datetime.datetime(1900, 1, 1, 0, 0, 17), 'Meetings': datetime.datetime(1900, 1, 1, 0, 0, 44), 'Programming': datetime.datetime(1900, 1, 1, 0, 0, 26)}\n"
     ]
    }
   ],
   "source": [
    "print(category_totals)"
   ]
  },
  {
   "cell_type": "code",
   "execution_count": null,
   "metadata": {},
   "outputs": [],
   "source": []
  }
 ],
 "metadata": {
  "kernelspec": {
   "display_name": ".venv",
   "language": "python",
   "name": "python3"
  },
  "language_info": {
   "codemirror_mode": {
    "name": "ipython",
    "version": 3
   },
   "file_extension": ".py",
   "mimetype": "text/x-python",
   "name": "python",
   "nbconvert_exporter": "python",
   "pygments_lexer": "ipython3",
   "version": "3.10.6"
  },
  "orig_nbformat": 4
 },
 "nbformat": 4,
 "nbformat_minor": 2
}
